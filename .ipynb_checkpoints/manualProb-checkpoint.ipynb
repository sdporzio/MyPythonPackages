{
 "cells": [
  {
   "cell_type": "code",
   "execution_count": 2,
   "metadata": {
    "collapsed": true
   },
   "outputs": [],
   "source": [
    "import math\n",
    "\n",
    "numberMonths = 3 # months\n",
    "totalTime = 60*60*24*30*numberMonths # seconds\n",
    "timeWindow = 30 # seconds\n",
    "nBins = totalTime/timeWindow\n",
    "pGen = 1./nBins\n",
    "nHV = 100\n",
    "nPMT = 100"
   ]
  },
  {
   "cell_type": "markdown",
   "metadata": {},
   "source": [
    "# Binomial approach\n",
    "\n",
    "We should assume at the moment that we're interested in calculating the probability for a HV event to happen in a specific time window at a specific time (let's say between 12.00.00 and 12.00.30 on 01/01/2016), **not a coincidence**.\n",
    "\n",
    "$T$ is our total time (couple of months) and $t$ is our time window (tens of seconds).\n",
    "\n",
    "Let's divide our total time in *bins*: $ \\ N_{\\text{bins}} = \\frac{T}{t}$.\n",
    "\n",
    "The probability for an event (an HV event for example) of happening in *a specific bin* (assuming completely flat distribution over time) is:\n",
    "\n",
    "$$ p = \\frac{1}{N_{\\text{bins}}} = \\frac{t}{T}. $$\n",
    "\n",
    "The probability for *a specific bin* to be occupied by at least one HV event by throwing $n^{\\text{HV}}$ HV events is then unity minus the probability of not observing any event in that bin:\n",
    "\n",
    "$$ P_{\\text{HV}}^{>0} = 1 - P_{0} = 1 - (1 - p)^{n_{\\text{HV}}} = 1 - \\left( 1 - \\frac{t}{T} \\right) ^{n_{\\text{HV}}}. $$\n",
    "\n",
    "Since that's the probability for *a specific bin* to be occupied by at least a HV event, we now want the probability for the same specific bin to be occupied also by at least a PMT event, so:\n",
    "\n",
    "$$ P_{\\text{comb}} = P^{>0}_{\\text{HV}} \\cdot P^{>0}_{\\text{PMT}}. $$\n",
    "\n",
    "But we don't care which bin exactly is occupied by a couple of PMT/HV events, and we have $N_{\\text{bins}} = \\frac{T}{t}$ of them, so:\n",
    "\n",
    "$$ P_{\\text{tot}} = P^{>0}_{\\text{HV}} \\cdot P^{>0}_{\\text{PMT}} \\cdot N_{\\text{bins}} = P^{>0}_{\\text{HV}} \\cdot P^{>0}_{\\text{PMT}} \\cdot \\frac{T}{t}. $$\n",
    "\n",
    "More explicitly:\n",
    "\n",
    "$$ P_{\\text{tot}} = \\left[ 1 - \\left( 1 - \\frac{t}{T} \\right) ^{n_{\\text{HV}}} \\right] \\cdot \\left[ 1 - \\left( 1 - \\frac{t}{T} \\right) ^{n_{\\text{PMT}}} \\right] \\cdot \\frac{T}{t}.$$"
   ]
  },
  {
   "cell_type": "code",
   "execution_count": 3,
   "metadata": {
    "collapsed": false
   },
   "outputs": [
    {
     "name": "stdout",
     "output_type": "stream",
     "text": [
      "Probability of observing a coincidence: 3.9%\n"
     ]
    }
   ],
   "source": [
    "pHV = 1 - pow((1-pGen),nHV)\n",
    "pPMT = 1 - pow((1-pGen),nPMT)\n",
    "p1 = pHV * pPMT * nBins\n",
    "\n",
    "print \"Probability of observing a coincidence: %.1f%%\" %(p1*100)"
   ]
  },
  {
   "cell_type": "markdown",
   "metadata": {
    "collapsed": true
   },
   "source": [
    "# Different binomial approach\n",
    "\n",
    "Let's lay down all our $n^{\\text{HV}}$ HV events and let's assume that they don't touch each other (so that each 60 $s$ region defined around them doesn't contain other HV events. The assumption is already wrong, but let's carry on).\n",
    "\n",
    "The *surface* covered by these events is $n_{\\text{HV}} \\cdot t$ versus $T$ total time.\n",
    "\n",
    "The probability then of a PMT events to fall within range of a HV event is:\n",
    "$$ p = \\frac{n_{\\text{HV}} \\cdot t}{T}$$\n",
    "\n",
    "The rest follows from before."
   ]
  },
  {
   "cell_type": "code",
   "execution_count": 4,
   "metadata": {
    "collapsed": false
   },
   "outputs": [
    {
     "name": "stdout",
     "output_type": "stream",
     "text": [
      "Probability of observing ONE coincidence:  3.7%\n"
     ]
    }
   ],
   "source": [
    "p2 = float((nHV * timeWindow))/float(totalTime)\n",
    "p2 = nPMT*p2*pow((1-p2),nPMT-1)\n",
    "print \"Probability of observing ONE coincidence:  %.1f%%\" %(p2*100)"
   ]
  },
  {
   "cell_type": "markdown",
   "metadata": {},
   "source": [
    "# Poissonian\n",
    "\n",
    "Event rate for HV events: $R_{\\text{HV}} = \\frac{n_{\\text{HV}}}{T}$\n",
    "\n",
    "Event rate for PMT events: $R_{\\text{PMT}} = \\frac{n_{\\text{PMT}}}{T}$\n",
    "\n",
    "Average number of HV events in $t$ time window: $m_{\\text{HV}} = R_{\\text{HV}} \\cdot t$\n",
    "\n",
    "Average number of PMT events in $t$ time window: $m_{\\text{PMT}} = R_{\\text{PMT}} \\cdot t$\n",
    "\n",
    "Coincidence rate: $R_{\\text{coinc}} = R_{\\text{HV}} \\cdot P_{\\text{PMT}}^{>0} = R_{\\text{HV}} \\left( 1 - e^{-m_{\\text{PMT}}} \\right)$\n",
    "\n",
    "Average number of coincidences over total time $T$: $m_{\\text{coinc}} = R_{\\text{coinc}} \\cdot T$\n",
    "\n",
    "Poissonian for probability of observing $k$ events over total time $T$:\n",
    "\n",
    "$$ P^{k} = \\frac{m_{\\text{coinc}}^k e^{-m_{\\text{coinc}}}}{k!}. $$"
   ]
  },
  {
   "cell_type": "code",
   "execution_count": 6,
   "metadata": {
    "collapsed": false
   },
   "outputs": [
    {
     "name": "stdout",
     "output_type": "stream",
     "text": [
      "Probability of observing ONE coincidence:  3.7%\n"
     ]
    }
   ],
   "source": [
    "rateHV = float(nHV)/float(totalTime)\n",
    "ratePMT = float(nPMT)/float(totalTime)\n",
    "coincidenceRate = rateHV * (1 - math.exp(-1 * ratePMT*timeWindow))\n",
    "nCoinc = 1\n",
    "\n",
    "average = coincidenceRate * totalTime\n",
    "p3 = float(pow(average,nCoinc) * math.exp(-1*average))/float(math.factorial(nCoinc))\n",
    "\n",
    "\n",
    "print \"Probability of observing ONE coincidence:  %.1f%%\" %(p3*100)"
   ]
  },
  {
   "cell_type": "code",
   "execution_count": null,
   "metadata": {
    "collapsed": true
   },
   "outputs": [],
   "source": []
  }
 ],
 "metadata": {
  "kernelspec": {
   "display_name": "Python 2",
   "language": "python",
   "name": "python2"
  },
  "language_info": {
   "codemirror_mode": {
    "name": "ipython",
    "version": 2
   },
   "file_extension": ".py",
   "mimetype": "text/x-python",
   "name": "python",
   "nbconvert_exporter": "python",
   "pygments_lexer": "ipython2",
   "version": "2.7.10"
  }
 },
 "nbformat": 4,
 "nbformat_minor": 0
}
